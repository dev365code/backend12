{
 "cells": [
  {
   "cell_type": "code",
   "execution_count": 5,
   "id": "81f41314-27fe-40d0-acf8-8646ff60ee79",
   "metadata": {},
   "outputs": [
    {
     "data": {
      "text/plain": [
       "'red'"
      ]
     },
     "execution_count": 5,
     "metadata": {},
     "output_type": "execute_result"
    }
   ],
   "source": [
    "colors = [\"red\", \"blue\", \"green\"]\n"
   ]
  },
  {
   "cell_type": "code",
   "execution_count": 6,
   "id": "9530dab1-c48a-4e4a-a7db-1ef49bb5b75b",
   "metadata": {},
   "outputs": [
    {
     "data": {
      "text/plain": [
       "['blue']"
      ]
     },
     "execution_count": 6,
     "metadata": {},
     "output_type": "execute_result"
    }
   ],
   "source": [
    "colors[1:2]\n"
   ]
  },
  {
   "cell_type": "code",
   "execution_count": null,
   "id": "4e2bd382-6274-49bb-8a0b-b2abbaa300d3",
   "metadata": {},
   "outputs": [],
   "source": []
  },
  {
   "cell_type": "code",
   "execution_count": null,
   "id": "6aded7e7-e801-48c8-a042-3c26873fda4a",
   "metadata": {},
   "outputs": [],
   "source": [
    "cities = ['서울', '부산', '인천', '대구', '광주', '울산', '수원']"
   ]
  },
  {
   "cell_type": "code",
   "execution_count": null,
   "id": "5eb71463-f764-4ddb-a0df-486ff6902d57",
   "metadata": {},
   "outputs": [],
   "source": [
    "print(cities"
   ]
  },
  {
   "cell_type": "code",
   "execution_count": 7,
   "id": "b7c57e81-1f0c-4b0e-ad0f-beb920e8c645",
   "metadata": {},
   "outputs": [
    {
     "name": "stdout",
     "output_type": "stream",
     "text": [
      "hello JAVA\n"
     ]
    }
   ],
   "source": [
    "\n",
    "print(\"hello JAVA\")\n",
    "\n",
    "\n"
   ]
  }
 ],
 "metadata": {
  "kernelspec": {
   "display_name": "Python (myenv)",
   "language": "python",
   "name": "myenv"
  },
  "language_info": {
   "codemirror_mode": {
    "name": "ipython",
    "version": 3
   },
   "file_extension": ".py",
   "mimetype": "text/x-python",
   "name": "python",
   "nbconvert_exporter": "python",
   "pygments_lexer": "ipython3",
   "version": "3.11.13"
  }
 },
 "nbformat": 4,
 "nbformat_minor": 5
}
